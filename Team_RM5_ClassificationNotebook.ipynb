{
  "nbformat": 4,
  "nbformat_minor": 0,
  "metadata": {
    "colab": {
      "name": "Team_RM5_ClassificationNotebook.ipynb",
      "provenance": [],
      "collapsed_sections": [],
      "include_colab_link": true
    },
    "kernelspec": {
      "display_name": "Python 3",
      "language": "python",
      "name": "python3"
    },
    "language_info": {
      "codemirror_mode": {
        "name": "ipython",
        "version": 3
      },
      "file_extension": ".py",
      "mimetype": "text/x-python",
      "name": "python",
      "nbconvert_exporter": "python",
      "pygments_lexer": "ipython3",
      "version": "3.7.4"
    }
  },
  "cells": [
    {
      "cell_type": "markdown",
      "metadata": {
        "id": "view-in-github",
        "colab_type": "text"
      },
      "source": [
        "<a href=\"https://colab.research.google.com/github/Lizette95/Team_RM5_ClassificationPredict_Notebook/blob/master/Team_RM5_ClassificationNotebook.ipynb\" target=\"_parent\"><img src=\"https://colab.research.google.com/assets/colab-badge.svg\" alt=\"Open In Colab\"/></a>"
      ]
    },
    {
      "cell_type": "markdown",
      "metadata": {
        "colab_type": "text",
        "id": "JmwSEWO22Fw1"
      },
      "source": [
        "<a id=\"top\"></a>\n",
        "# Team RM5 Classification Predict Notebook"
      ]
    },
    {
      "cell_type": "markdown",
      "metadata": {
        "id": "v6Z-SobSOiXC",
        "colab_type": "text"
      },
      "source": [
        "**Team Members:** Abednego Pakaree, Iman Mokwena, Lizette Loubser, Omphile Louw, Refiloe Elvis Phipa, Silindokuhle Kubheka    \n",
        "**Supervisor:** Ridha Moosa\n",
        "\n",
        "* [Notebook repo](https://github.com/Lizette95/Team_RM5_ClassificationPredict_Notebook)\n",
        "* [Streamlit repo](https://github.com/Lizette95/classification-predict-streamlit-template)\n",
        "* [Trello board](https://trello.com/b/pFKnwtGF/classificationteamrm5) "
      ]
    },
    {
      "cell_type": "markdown",
      "metadata": {
        "colab_type": "text",
        "id": "PJbrOXzh2Fw3"
      },
      "source": [
        "### Table of Contents\n",
        "---\n",
        "1. [Introduction](#intro)\n",
        " * Background\n",
        " * Problem Statement\n",
        "---\n",
        "2. [Load Dependencies](#imports)\n",
        "---\n",
        "3. [Exploratory Data Analysis](#EDA)\n",
        "---\n",
        "4. [Data Preprocessing](#preprocessing) \n",
        "---\n",
        "5. [Modelling](#modelling)\n",
        "---\n",
        "6. [Performance Evaluation](#evaluation)\n",
        "---\n",
        "7. [Model Analysis](#analysis)\n",
        "---\n",
        "8. [Conclusion](#conclusion)\n",
        "---"
      ]
    },
    {
      "cell_type": "markdown",
      "metadata": {
        "colab_type": "text",
        "id": "FuWPzFFu2Fw4"
      },
      "source": [
        "<a id=\"intro\"></a>\n",
        "## **1. Introduction**  \n",
        "\n",
        "### **Project Description**\n",
        "\n",
        "Machine learning is the study of computer algorithms that improve automatically through experience. It is a powerful branch of Artificial intelligence, dating as far back as 1952. Machine learning algorithms build a mathematical model based on sample data, known as \"training data\", in order to make predictions or decisions without being explicitly programmed to do so.\n",
        "\n",
        "Classification is a process of categorizing a given set of data into classes, It can be performed on both structured or unstructured data. The process starts with predicting the class of given data points. The classes are often referred to as target, label or categories.\n",
        "\n",
        "\n",
        "### **Problem Statement**\n",
        "\n",
        "Build a classification model that will predict the sentiments of Tweets related to climate change\n"
      ]
    },
    {
      "cell_type": "markdown",
      "metadata": {
        "colab_type": "text",
        "id": "_9Q_MjhR2Fw5"
      },
      "source": [
        "<a id=\"imports\"></a>\n",
        "## 2. Load Dependencies"
      ]
    },
    {
      "cell_type": "code",
      "metadata": {
        "colab_type": "code",
        "id": "sHYujSMU2Fw7",
        "colab": {}
      },
      "source": [
        "# Ignore warnings\n",
        "import warnings\n",
        "warnings.simplefilter(action='ignore')\n",
        "\n",
        "# Prerequisites\n",
        "#import sys\n",
        "#!{sys.executable} -m pip install scikit-learn\n",
        "\n",
        "# Load Dependencies\n",
        "import numpy as np\n",
        "import pandas as pd\n",
        "import seaborn as sns\n",
        "\n",
        "# Display\n",
        "%matplotlib inline\n",
        "sns.set(font_scale=1)\n",
        "sns.set_style(\"white\")"
      ],
      "execution_count": 0,
      "outputs": []
    },
    {
      "cell_type": "markdown",
      "metadata": {
        "colab_type": "text",
        "id": "hwuqPkzkDM62"
      },
      "source": [
        "<a id=\"EDA\"></a>\n",
        "## 3. Exploratory Data Analysis"
      ]
    },
    {
      "cell_type": "markdown",
      "metadata": {
        "colab_type": "text",
        "id": "z6jONYzo2Fx2"
      },
      "source": [
        "<a id=\"preprocessing\"></a>\n",
        "## 4. Data Preprocessing"
      ]
    },
    {
      "cell_type": "markdown",
      "metadata": {
        "colab_type": "text",
        "id": "chM0AHBJ2FyD"
      },
      "source": [
        "<a id=\"modelling\"></a>\n",
        "## 5. Modelling"
      ]
    },
    {
      "cell_type": "markdown",
      "metadata": {
        "colab_type": "text",
        "id": "teKzAXIF2FyS"
      },
      "source": [
        "<a id=\"evaluation\"></a>\n",
        "## 6. Performance Evaluation"
      ]
    },
    {
      "cell_type": "markdown",
      "metadata": {
        "colab_type": "text",
        "id": "5BiBBxvR2FyY"
      },
      "source": [
        "<a id=\"analysis\"></a>\n",
        "## 7. Model Analysis"
      ]
    },
    {
      "cell_type": "markdown",
      "metadata": {
        "id": "gqCxJqrIOiXL",
        "colab_type": "text"
      },
      "source": [
        "<a id=\"conclusion\"></a>\n",
        "## 8. Conclusion"
      ]
    },
    {
      "cell_type": "markdown",
      "metadata": {
        "colab_type": "text",
        "id": "eoo2Ek6G2Fy6"
      },
      "source": [
        "[Back to top ↑](#top)"
      ]
    }
  ]
}